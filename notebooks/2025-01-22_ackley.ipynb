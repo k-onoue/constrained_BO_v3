{
 "cells": [
  {
   "cell_type": "code",
   "execution_count": 7,
   "metadata": {},
   "outputs": [],
   "source": [
    "import numpy as np\n",
    "\n",
    "\n",
    "class AckleyTF:\n",
    "    def __init__(\n",
    "        self,\n",
    "        constrain=False,\n",
    "    ):\n",
    "        self.bounds = [-32, 32]\n",
    "        self.n_dim = 2\n",
    "        self.min = [0, 0]\n",
    "        self.fmin = 0\n",
    "        self.max = [32, 32]\n",
    "        self.fmax = 22.3497\n",
    "        \n",
    "        self.grid_size = self.bounds[1] - self.bounds[0] + 1\n",
    "        self._tensor_constraint = None\n",
    "        if constrain:\n",
    "            self._build_constraint()\n",
    "\n",
    "    def _build_constraint(self) -> None:\n",
    "        X, Y = np.meshgrid(\n",
    "            np.arange(self.bounds[0], self.bounds[1] + 1),\n",
    "            np.arange(self.bounds[0], self.bounds[1] + 1)\n",
    "        )\n",
    "        R_squared = X**2 + Y**2\n",
    "        self._tensor_constraint = (R_squared < 10**2).astype(int)\n",
    "\n",
    "    def _coord_to_index(self, x):\n",
    "        return [int(xi - self.bounds[0]) for xi in x]\n",
    "\n",
    "    def _index_to_coord(self, idx):\n",
    "        return [int(i + self.bounds[0]) for i in idx]\n",
    "\n",
    "    def function(self, x, y):\n",
    "        a, b, c = 20, 0.2, 2*np.pi\n",
    "        d = 2\n",
    "        xy = np.array([x, y])\n",
    "        sum1 = -a * np.exp(-b * np.sqrt(np.sum(xy ** 2) / d))\n",
    "        sum2 = -np.exp(np.sum(np.cos(c * xy)) / d)\n",
    "        return sum1 + sum2 + a + np.exp(1)\n",
    "\n",
    "    def evaluate(self, x):\n",
    "        if not self.is_dimensionality_valid(x) or not self.is_in_bounds(x):\n",
    "            return self.fmax\n",
    "        \n",
    "        return self.function(x[0], x[1])\n",
    "\n",
    "    def sample_violation_indices(self, num_samples: int) -> np.ndarray:\n",
    "        if self._tensor_constraint is None:\n",
    "            raise ValueError(\"Constraint not initialized\")\n",
    "        \n",
    "        indices = np.array(np.where(self._tensor_constraint == 0)).T\n",
    "        if num_samples > len(indices):\n",
    "            raise ValueError(\"num_samples is too large\")\n",
    "            \n",
    "        return indices[np.random.choice(len(indices), size=num_samples, replace=False)]\n",
    "\n",
    "    def sample_violation_path(self, num_samples: int = 200) -> list[tuple[int, int]]:\n",
    "        random_indices = self.sample_violation_indices(num_samples)\n",
    "        return [tuple(self._index_to_coord(idx)) for idx in random_indices]\n",
    "\n",
    "    def is_dimensionality_valid(self, x):\n",
    "        return len(x) == 2\n",
    "\n",
    "    def is_in_bounds(self, x):\n",
    "        return all(self.bounds[0] <= xi <= self.bounds[1] for xi in x)"
   ]
  },
  {
   "cell_type": "code",
   "execution_count": 8,
   "metadata": {},
   "outputs": [],
   "source": [
    "obj = AckleyTF(constrain=True)"
   ]
  },
  {
   "cell_type": "code",
   "execution_count": 9,
   "metadata": {},
   "outputs": [
    {
     "data": {
      "text/plain": [
       "array([[0, 0, 0, ..., 0, 0, 0],\n",
       "       [0, 0, 0, ..., 0, 0, 0],\n",
       "       [0, 0, 0, ..., 0, 0, 0],\n",
       "       ...,\n",
       "       [0, 0, 0, ..., 0, 0, 0],\n",
       "       [0, 0, 0, ..., 0, 0, 0],\n",
       "       [0, 0, 0, ..., 0, 0, 0]])"
      ]
     },
     "execution_count": 9,
     "metadata": {},
     "output_type": "execute_result"
    }
   ],
   "source": [
    "obj._tensor_constraint"
   ]
  },
  {
   "cell_type": "code",
   "execution_count": 6,
   "metadata": {},
   "outputs": [
    {
     "data": {
      "text/plain": [
       "np.int64(69)"
      ]
     },
     "execution_count": 6,
     "metadata": {},
     "output_type": "execute_result"
    }
   ],
   "source": [
    "obj._tensor_constraint.sum()"
   ]
  },
  {
   "cell_type": "code",
   "execution_count": 5,
   "metadata": {},
   "outputs": [
    {
     "name": "stdout",
     "output_type": "stream",
     "text": [
      "[-32, -31, -30, -29, -28, -27, -26, -25, -24, -23, -22, -21, -20, -19, -18, -17, -16, -15, -14, -13, -12, -11, -10, -9, -8, -7, -6, -5, -4, -3, -2, -1, 0, 1, 2, 3, 4, 5, 6, 7, 8, 9, 10, 11, 12, 13, 14, 15, 16, 17, 18, 19, 20, 21, 22, 23, 24, 25, 26, 27, 28, 29, 30, 31, 32]\n"
     ]
    }
   ],
   "source": [
    "categories = list(range(-32, 33))\n",
    "print(categories)"
   ]
  },
  {
   "cell_type": "code",
   "execution_count": 10,
   "metadata": {},
   "outputs": [],
   "source": [
    "const = obj._tensor_constraint"
   ]
  },
  {
   "cell_type": "code",
   "execution_count": 11,
   "metadata": {},
   "outputs": [
    {
     "data": {
      "text/plain": [
       "np.int64(0)"
      ]
     },
     "execution_count": 11,
     "metadata": {},
     "output_type": "execute_result"
    }
   ],
   "source": [
    "const[20, -25]"
   ]
  },
  {
   "cell_type": "code",
   "execution_count": 12,
   "metadata": {},
   "outputs": [
    {
     "data": {
      "text/plain": [
       "(array([[-2, -1,  0,  1,  2],\n",
       "        [-2, -1,  0,  1,  2],\n",
       "        [-2, -1,  0,  1,  2],\n",
       "        [-2, -1,  0,  1,  2],\n",
       "        [-2, -1,  0,  1,  2]]),\n",
       " array([[-2, -2, -2, -2, -2],\n",
       "        [-1, -1, -1, -1, -1],\n",
       "        [ 0,  0,  0,  0,  0],\n",
       "        [ 1,  1,  1,  1,  1],\n",
       "        [ 2,  2,  2,  2,  2]]))"
      ]
     },
     "execution_count": 12,
     "metadata": {},
     "output_type": "execute_result"
    }
   ],
   "source": [
    "X, Y = np.meshgrid(\n",
    "    np.arange(-2, 3),\n",
    "    np.arange(-2, 3)\n",
    ")\n",
    "\n",
    "X, Y"
   ]
  },
  {
   "cell_type": "code",
   "execution_count": 13,
   "metadata": {},
   "outputs": [
    {
     "data": {
      "text/plain": [
       "(array([[4, 1, 0, 1, 4],\n",
       "        [4, 1, 0, 1, 4],\n",
       "        [4, 1, 0, 1, 4],\n",
       "        [4, 1, 0, 1, 4],\n",
       "        [4, 1, 0, 1, 4]]),\n",
       " array([[4, 4, 4, 4, 4],\n",
       "        [1, 1, 1, 1, 1],\n",
       "        [0, 0, 0, 0, 0],\n",
       "        [1, 1, 1, 1, 1],\n",
       "        [4, 4, 4, 4, 4]]))"
      ]
     },
     "execution_count": 13,
     "metadata": {},
     "output_type": "execute_result"
    }
   ],
   "source": [
    "X ** 2, Y ** 2"
   ]
  },
  {
   "cell_type": "code",
   "execution_count": 14,
   "metadata": {},
   "outputs": [
    {
     "data": {
      "text/plain": [
       "array([[8, 5, 4, 5, 8],\n",
       "       [5, 2, 1, 2, 5],\n",
       "       [4, 1, 0, 1, 4],\n",
       "       [5, 2, 1, 2, 5],\n",
       "       [8, 5, 4, 5, 8]])"
      ]
     },
     "execution_count": 14,
     "metadata": {},
     "output_type": "execute_result"
    }
   ],
   "source": [
    "X ** 2 + Y ** 2"
   ]
  },
  {
   "cell_type": "code",
   "execution_count": 15,
   "metadata": {},
   "outputs": [
    {
     "data": {
      "text/plain": [
       "array([[False, False, False, False, False],\n",
       "       [False, False,  True, False, False],\n",
       "       [False,  True,  True,  True, False],\n",
       "       [False, False,  True, False, False],\n",
       "       [False, False, False, False, False]])"
      ]
     },
     "execution_count": 15,
     "metadata": {},
     "output_type": "execute_result"
    }
   ],
   "source": [
    "X ** 2 + Y ** 2 < 2"
   ]
  },
  {
   "cell_type": "code",
   "execution_count": null,
   "metadata": {},
   "outputs": [],
   "source": []
  },
  {
   "cell_type": "code",
   "execution_count": 16,
   "metadata": {},
   "outputs": [
    {
     "data": {
      "text/plain": [
       "np.float64(3.6253849384403627)"
      ]
     },
     "execution_count": 16,
     "metadata": {},
     "output_type": "execute_result"
    }
   ],
   "source": [
    "obj.evaluate([-1, 1])"
   ]
  }
 ],
 "metadata": {
  "kernelspec": {
   "display_name": "bo-env_v3",
   "language": "python",
   "name": "python3"
  },
  "language_info": {
   "codemirror_mode": {
    "name": "ipython",
    "version": 3
   },
   "file_extension": ".py",
   "mimetype": "text/x-python",
   "name": "python",
   "nbconvert_exporter": "python",
   "pygments_lexer": "ipython3",
   "version": "3.12.6"
  }
 },
 "nbformat": 4,
 "nbformat_minor": 2
}
